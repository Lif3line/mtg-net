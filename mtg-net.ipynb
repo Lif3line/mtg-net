{
 "cells": [
  {
   "cell_type": "code",
   "execution_count": 8,
   "metadata": {
    "ExecuteTime": {
     "end_time": "2017-06-11T17:21:15.008353Z",
     "start_time": "2017-06-11T18:21:15.003141+01:00"
    },
    "collapsed": false,
    "run_control": {
     "frozen": false,
     "read_only": false
    }
   },
   "outputs": [],
   "source": [
    "import numpy as np\n",
    "import time\n",
    "\n",
    "from keras.models import Sequential\n",
    "from keras.layers import *\n",
    "\n",
    "# Data paths\n",
    "data_path = 'data/AllSets.json'\n",
    "\n",
    "# Training Parameters\n",
    "patience = 5  # Early Stopping (using validation macro recall)\n",
    "minImprovement = 0.005\n",
    "max_epochs = 100\n",
    "batch_size = 256"
   ]
  },
  {
   "cell_type": "code",
   "execution_count": 14,
   "metadata": {
    "ExecuteTime": {
     "end_time": "2017-06-11T17:23:09.521040Z",
     "start_time": "2017-06-11T18:23:05.540453+01:00"
    },
    "collapsed": false
   },
   "outputs": [
    {
     "name": "stdout",
     "output_type": "stream",
     "text": [
      "_________________________________________________________________\n",
      "Layer (type)                 Output Shape              Param #   \n",
      "=================================================================\n",
      "embedding_6 (Embedding)      (None, 150, 128)          128128    \n",
      "_________________________________________________________________\n",
      "lstm_16 (LSTM)               (None, 150, 512)          1312768   \n",
      "_________________________________________________________________\n",
      "lstm_17 (LSTM)               (None, 150, 512)          2099200   \n",
      "_________________________________________________________________\n",
      "lstm_18 (LSTM)               (None, 512)               2099200   \n",
      "_________________________________________________________________\n",
      "dense_6 (Dense)              (None, 150)               76950     \n",
      "=================================================================\n",
      "Total params: 5,716,246.0\n",
      "Trainable params: 5,716,246\n",
      "Non-trainable params: 0.0\n",
      "_________________________________________________________________\n"
     ]
    }
   ],
   "source": [
    "def build_model():\n",
    "    '''Method for simply recreating the model when necessary (e.g. between validation folds)\n",
    "    '''\n",
    "    max_len = 150\n",
    "    max_features = 1000\n",
    "    \n",
    "    model = Sequential()\n",
    "    model.add(Embedding(max_features + 1, 128, input_length=max_len))\n",
    "    model.add(LSTM(512, activation='tanh', recurrent_activation='hard_sigmoid', use_bias=True, \n",
    "                   kernel_initializer='glorot_uniform', recurrent_initializer='orthogonal', \n",
    "                   bias_initializer='zeros', unit_forget_bias=True, kernel_regularizer=None, \n",
    "                   recurrent_regularizer=None, bias_regularizer=None, activity_regularizer=None, \n",
    "                   kernel_constraint=None, recurrent_constraint=None, bias_constraint=None, \n",
    "                   dropout=0.2, recurrent_dropout=0.2, return_sequences=True))\n",
    "    \n",
    "    model.add(LSTM(512, activation='tanh', recurrent_activation='hard_sigmoid', use_bias=True, \n",
    "                   kernel_initializer='glorot_uniform', recurrent_initializer='orthogonal', \n",
    "                   bias_initializer='zeros', unit_forget_bias=True, kernel_regularizer=None, \n",
    "                   recurrent_regularizer=None, bias_regularizer=None, activity_regularizer=None, \n",
    "                   kernel_constraint=None, recurrent_constraint=None, bias_constraint=None, \n",
    "                   dropout=0.2, recurrent_dropout=0.2, return_sequences=True))\n",
    "    \n",
    "    model.add(LSTM(512, activation='tanh', recurrent_activation='hard_sigmoid', use_bias=True, \n",
    "                   kernel_initializer='glorot_uniform', recurrent_initializer='orthogonal', \n",
    "                   bias_initializer='zeros', unit_forget_bias=True, kernel_regularizer=None, \n",
    "                   recurrent_regularizer=None, bias_regularizer=None, activity_regularizer=None, \n",
    "                   kernel_constraint=None, recurrent_constraint=None, bias_constraint=None, \n",
    "                   dropout=0.2, recurrent_dropout=0.2, return_sequences=False))\n",
    "    model.add(Dense(max_len, activation='softmax'))\n",
    "\n",
    "    \n",
    "    model.compile(optimizer='rmsprop',\n",
    "                  loss='binary_crossentropy',\n",
    "                  sample_weight_mode='None',\n",
    "                  metrics=['accuracy'])\n",
    "    \n",
    "    return model\n",
    "\n",
    "model = build_model()    \n",
    "model.summary()"
   ]
  }
 ],
 "metadata": {
  "kernelspec": {
   "display_name": "Python 3",
   "language": "python",
   "name": "python3"
  },
  "language_info": {
   "codemirror_mode": {
    "name": "ipython",
    "version": 3
   },
   "file_extension": ".py",
   "mimetype": "text/x-python",
   "name": "python",
   "nbconvert_exporter": "python",
   "pygments_lexer": "ipython3",
   "version": "3.5.3"
  }
 },
 "nbformat": 4,
 "nbformat_minor": 2
}
